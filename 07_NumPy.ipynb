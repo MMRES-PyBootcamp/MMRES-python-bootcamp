{
 "cells": [
  {
   "cell_type": "markdown",
   "metadata": {
    "id": "PegF1K0D1ZnS"
   },
   "source": [
    "# Session 7 - NumPy (First part - 70')\n",
    "> A brief introduction to NumPy basic concepts. First, you will become familiar with NumPy's iconic \"arrays\" containers. You will learn how to manipulate them and some basic operations and aggregations. Finally, we will try to understand the difference between element-wise and broadcasting operations before introducing some tools for random number generation and refreshing a few linear algebra ideas.\n",
    "\n",
    "> **Disclaimer**: These contents are based on the official [The absolute basics for beginners](https://numpy.org/doc/stable/user/absolute_beginners.html) from NumPy website."
   ]
  },
  {
   "cell_type": "markdown",
   "metadata": {},
   "source": [
    "## Outline\n",
    " * [What is NumPy?](#What-is-NumPy?)\n",
    "   * [N-dimensional arrays](#N-dimensional-arrays)\n",
    "   * [Array fundamentals](#Array-fundamentals)\n",
    " * [Array attributes](#Array-attributes)\n",
    " * [Creating arrays](#Creating-arrays)\n",
    " * [Sorting, concatenating and reversing arrays](#Sorting,-concatenating-and-reversing-arrays)\n",
    "   * [Sorting](#Sorting)\n",
    "   * [Concatenating](#Concatenating)\n",
    "   * [Reversing](#Reversing)\n",
    " * [Reshaping and flattening arrays](#Reshaping-and-flattening-arrays)\n",
    "   * [Reshaping](#Reshaping)\n",
    "   * [Flattening](#Flattening) \n",
    " * [Slicing and indexing arrays](#Slicing-and-indexing-arrays)\n",
    " * [Aggregating arrays and operating with arrays](#Aggregating-arrays-and-operating-with-arrays)\n",
    "   * [Aggregating](#Aggregating)\n",
    "   * [Operating](#Operating)\n",
    " * [Broadcasting](#Broadcasting)\n",
    " * [Extra concepts](#Extra-concepts)\n",
    "   * [Generating random numbers](#Generating-random-numbers)\n",
    "   * [Working with vectors and matrices](#Working-with-vectors-and-matrices)"
   ]
  },
  {
   "cell_type": "markdown",
   "metadata": {},
   "source": [
    "This document is devised as a tool to enable your **self-learning process**. If you get stuck at some step or need any kind of help, please don't hesitate to raise your hand and ask for the teacher's guidance. Along it, you will find some **special cells**:"
   ]
  },
  {
   "cell_type": "markdown",
   "metadata": {},
   "source": [
    "<div class=\"alert alert-block alert-success\"><b>Practice:</b> Practice cells announce exercises that you should try during the current boot camp session. Usually, solutions are provided using hidden cells (look for the dot dot dot symbol \"...\" and click to unravel them and check that your try is correct).\n",
    "</div>"
   ]
  },
  {
   "cell_type": "markdown",
   "metadata": {},
   "source": [
    "<div class=\"alert alert-block alert-warning\"><b>Extension:</b> Extension cells correspond to exercises (or links to contents) that are a bit more advanced. We recommend to try them after the current boot camp session.\n",
    "</div>"
   ]
  },
  {
   "cell_type": "markdown",
   "metadata": {},
   "source": [
    "<div class=\"alert alert-block alert-info\"><b>Tip:</b> Tip cells just give some advice or complementary information.\n",
    "</div>"
   ]
  },
  {
   "cell_type": "markdown",
   "metadata": {},
   "source": [
    "<div class=\"alert alert-block alert-danger\"><b>Caveat:</b> Caveat cells warn you about the most common pitfalls one founds when starts his/her path learning Python.\n",
    "\n",
    "</div>"
   ]
  },
  {
   "cell_type": "markdown",
   "metadata": {
    "id": "jd6Y3hlZwe_y",
    "tags": []
   },
   "source": [
    "## What is NumPy?\n",
    "\n",
    "[**NumPy**](https://numpy.org/) (**Num**erical **Py**thon) is an open source Python library that's widely used in science and engineering. NumPy contains multidimensional array data structures, such as the homogeneous, **N-dimensional array** (AKA `ndarray`), and a large library of functions that operate efficiently on these data structures. We usually load NumPy with the `np` alias:"
   ]
  },
  {
   "cell_type": "code",
   "execution_count": 3,
   "metadata": {},
   "outputs": [],
   "source": [
    "# Load package with its corresponding alias\n",
    "import numpy as np"
   ]
  },
  {
   "cell_type": "markdown",
   "metadata": {},
   "source": [
    "Python lists (that we [already introduced](./02_Intro.ipynb)) are excellent, general-purpose containers. Lists can be \"heterogeneous\", meaning that they can store elements of a variety of types. Lists are quite fast when used to perform individual operations on a handful of elements. However, depending on the characteristics of the data and the types of operations that need to be performed, other containers like NumPy `ndarray` may be more appropriate.\n",
    "\n",
    "By exploiting these characteristics, NumPy can improve speed, reduce memory consumption, and offer a high-level syntax for performing a variety of common processing tasks. NumPy shines when there are large quantities of \"homogeneous\" (same-type) data to be processed on the CPU."
   ]
  },
  {
   "cell_type": "markdown",
   "metadata": {},
   "source": [
    "### N-dimensional arrays"
   ]
  },
  {
   "cell_type": "markdown",
   "metadata": {},
   "source": [
    "In computer programming, an array is a structure for storing and retrieving data. We often talk about an `ndarray` as if it were a grid in space, with each cell storing one element of the data. For instance, if each element of the data were a number, we might visualize a \"one-dimensional\" array like a list:\n",
    "\n",
    "$$\n",
    "\\begin{aligned}\n",
    "&\\begin{array}{|c|c|c|c|}\n",
    "\\hline 1 & 5 & 2 & 0 \\\\ \\hline\n",
    "\\end{array}\n",
    "\\end{aligned}\n",
    "$$\n",
    "\n",
    "A \"two-dimensional\" array would be like a table:\n",
    "\n",
    "$$\n",
    "\\begin{aligned}\n",
    "&\\begin{array}{|c|c|c|c|}\n",
    "\\hline 1 & 5 & 2 & 0 \\\\ \\hline\n",
    "\\hline 8 & 3 & 6 & 1 \\\\ \\hline\n",
    "\\hline 1 & 7 & 2 & 9 \\\\ \\hline\n",
    "\\end{array}\n",
    "\\end{aligned}\n",
    "$$\n",
    "\n",
    "A \"three-dimensional\" array would be like a set of tables, perhaps stacked as though they were printed on separate pages. In NumPy, this idea is generalized to an arbitrary number of dimensions, and so the fundamental array class is called `ndarray`: it represents an \"N-dimensional array\" or \"ND\".\n",
    "\n",
    "Most NumPy arrays have some restrictions. For instance:\n",
    "\n",
    "* All elements of the array must be of the same type of data.\n",
    "* Once created, the total size of the array can't change.\n",
    "* The shape must be \"rectangular\", not \"jagged\" (each row of a 2D array must have the same number of columns).\n",
    "\n",
    "When these conditions are met, NumPy exploits these characteristics to make the array faster, more memory efficient, and more convenient to use than less restrictive data structures like lists (for the remainder of this document, we will use the word \"array\" to refer to an instance of `ndarray`)."
   ]
  },
  {
   "cell_type": "markdown",
   "metadata": {},
   "source": [
    "### Array fundamentals\n",
    "\n",
    "One way to initialize an array is using a pre-existing Python sequence, such a list `[]`:"
   ]
  },
  {
   "cell_type": "code",
   "execution_count": null,
   "metadata": {},
   "outputs": [],
   "source": [
    "# Create 1D array from scratch\n",
    "a = np.array([6, 5, 4, 3, 2, 1])"
   ]
  },
  {
   "cell_type": "code",
   "execution_count": null,
   "metadata": {},
   "outputs": [],
   "source": [
    "# Check the array we just created\n",
    "a"
   ]
  },
  {
   "cell_type": "code",
   "execution_count": null,
   "metadata": {},
   "outputs": [],
   "source": [
    "# Check its data type\n",
    "type(a)"
   ]
  },
  {
   "cell_type": "markdown",
   "metadata": {},
   "source": [
    "We can access array individual elements as we would access list elements: using the integer index of the element within square brackets `[]`:"
   ]
  },
  {
   "cell_type": "code",
   "execution_count": null,
   "metadata": {},
   "outputs": [],
   "source": [
    "# View its first (0) element\n",
    "a[0]"
   ]
  },
  {
   "cell_type": "markdown",
   "metadata": {},
   "source": [
    "Like Python built-in lists, arrays are mutable:"
   ]
  },
  {
   "cell_type": "code",
   "execution_count": null,
   "metadata": {},
   "outputs": [],
   "source": [
    "# Modify the its first element\n",
    "a[0] = 60\n",
    "\n",
    "# Check the modified array\n",
    "a"
   ]
  },
  {
   "cell_type": "markdown",
   "metadata": {},
   "source": [
    "Also like the original list, Python slice notation can be used for indexing."
   ]
  },
  {
   "cell_type": "code",
   "execution_count": null,
   "metadata": {},
   "outputs": [],
   "source": [
    "# Slice from the 4th (3) element to the last element (:)\n",
    "slice_a = a[3:]\n",
    "\n",
    "# View the sliced array\n",
    "slice_a"
   ]
  },
  {
   "cell_type": "markdown",
   "metadata": {},
   "source": [
    "One major difference is that slice indexing of a list copies the elements into a new list, but slicing an array returns a **view**: an object that refers to the original array data. The original array can be (indirectly) mutated using the view:"
   ]
  },
  {
   "cell_type": "code",
   "execution_count": null,
   "metadata": {},
   "outputs": [],
   "source": [
    "# Modify the 1st element of the array view we just created\n",
    "slice_a[0] = 30\n",
    "\n",
    "# Check the slice_a we just modified\n",
    "print(\"Modified view of array 'a':\\n\", slice_a, \"\\n\")\n",
    "\n",
    "# Check the original array\n",
    "print(\"Original array 'a':\\n\", a)"
   ]
  },
  {
   "cell_type": "markdown",
   "metadata": {},
   "source": [
    "<div class=\"alert alert-block alert-danger\"><b>Caveat:</b>\n",
    "\n",
    "* Note that we end-up modifying the original array `a` by modifying its slice view `slice_a`. See [Copies and views](https://numpy.org/doc/stable/user/basics.copies.html#basics-copies-and-views) for a more comprehensive explanation of when array operations return views rather than copies.\n",
    "\n",
    "</div>"
   ]
  },
  {
   "cell_type": "markdown",
   "metadata": {},
   "source": [
    "Two- and higher-dimensional arrays can be initialized from nested Python sequences, such a list of lists `[ [], [], [] ]`:"
   ]
  },
  {
   "cell_type": "code",
   "execution_count": null,
   "metadata": {},
   "outputs": [],
   "source": [
    "# Create a 2D array from scratch\n",
    "array_b = np.array([ [12, 11, 10, 9], [8, 7, 6, 5], [4, 3, 2, 1] ])\n",
    "\n",
    "# Create a list of lists from scratch\n",
    "list_b = [ [12, 11, 10, 9], [8, 7, 6, 5], [4, 3, 2, 1] ]\n",
    "\n",
    "# Print the array_b we just created\n",
    "print(\"2D array 'array_b':\\n\", array_b, \"\\n\")\n",
    "\n",
    "# Print the list_b we just created\n",
    "print(\"List of lists 'list_b':\\n\", list_b)"
   ]
  },
  {
   "cell_type": "markdown",
   "metadata": {},
   "source": [
    "In NumPy, a dimension of an array is sometimes referred to as an \"axis\". This terminology may be useful to disambiguate between the dimensionality of an array and the dimensionality of the data represented by the array. For instance, the array `array_b` could represent **three points**, each lying within a **four-dimensional space**, but `array_b` has only **two \"axes\"**. This means that we only need two indices to access an individual element from the array:"
   ]
  },
  {
   "cell_type": "code",
   "execution_count": null,
   "metadata": {},
   "outputs": [],
   "source": [
    "# Get the array 2nd element [1] along axis 1 and 3rd element [2] along axis 2\n",
    "print(array_b[1][2], '\\n')\n",
    "\n",
    "# Get the list 2nd element [1] along \"axis\" 1 and 3rd element [2] along \"axis\" 2\n",
    "print(list_b[1][2])"
   ]
  },
  {
   "cell_type": "markdown",
   "metadata": {},
   "source": [
    "Note that this is the same syntax that we should use for a list of lists. Alternatively, you can also specify the index along each axis within a single set of square brackets, separated by commas:"
   ]
  },
  {
   "cell_type": "code",
   "execution_count": null,
   "metadata": {},
   "outputs": [],
   "source": [
    "# Get the 2nd element [1] along axis 1 and 3rd element [2] along axis 2\n",
    "print(array_b[1, 2])"
   ]
  },
  {
   "cell_type": "markdown",
   "metadata": {},
   "source": [
    "However, this syntax doesn't works for list of lists:"
   ]
  },
  {
   "cell_type": "code",
   "execution_count": null,
   "metadata": {},
   "outputs": [],
   "source": [
    "# (Trying to) get the 2nd element [1] along axis 1 and 3rd element [2] along axis 2\n",
    "try:\n",
    "    print(list_b[1, 2])\n",
    "except TypeError:\n",
    "    print(\"TypeError\")"
   ]
  },
  {
   "cell_type": "markdown",
   "metadata": {},
   "source": [
    "<div class=\"alert alert-block alert-success\"><b>Practice 1:</b>\n",
    "\n",
    "Check the different behavior when modifying list slices and array slices. We have prepared a testing list `list_x` and a testing array `array_x` for you:\n",
    "    \n",
    "1) Slice first four elements for `list_x` and `array_x`.\n",
    "\n",
    "2) Modify second element of `list_slice_x` and `array_slice_x`. Overwrite the contents a assign the value `30`.\n",
    "\n",
    "3) Check the original list `list_x` and the original array `array_x` after modifying the corresponding slices.\n",
    "\n",
    "Un-comment and fill only those code lines with underscores `___`.\n",
    "\n",
    "</div>"
   ]
  },
  {
   "cell_type": "code",
   "execution_count": null,
   "metadata": {},
   "outputs": [],
   "source": [
    "# Create list and array from scratch\n",
    "list_x = [2, 3, 5, 7, 11]\n",
    "array_x = np.array([2, 3, 5, 7, 11])\n",
    "\n",
    "# Slice first four elements for list and array\n",
    "# list_slice_x = ___\n",
    "# array_slice_x = ___\n",
    "\n",
    "# Modify second element for list slice and array slice\n",
    "# list_slice_x[___] = ___\n",
    "# array_slice_x[___] = ___\n",
    "\n",
    "# Check original list and array after slice modification\n",
    "print(\"Original list 'list_x':\\n\", list_x, \"\\n\")\n",
    "print(\"Original array 'array_x':\\n\", array_x)"
   ]
  },
  {
   "cell_type": "code",
   "execution_count": null,
   "metadata": {
    "jupyter": {
     "source_hidden": true
    }
   },
   "outputs": [],
   "source": [
    "# Create list and array from scratch\n",
    "list_x = [2, 3, 5, 7, 11]\n",
    "array_x = np.array([2, 3, 5, 7, 11])\n",
    "\n",
    "# Slice first four elements for list and array\n",
    "list_slice_x = list_x[:3]\n",
    "array_slice_x = array_x[:3]\n",
    "\n",
    "# Modify second element for list slice and array slice\n",
    "list_slice_x[1] = 30\n",
    "array_slice_x[1] = 30\n",
    "\n",
    "# Check original list and array after slice modification\n",
    "print(\"Original list 'list_x':\\n\", list_x, \"\\n\")\n",
    "print(\"Original array 'array_x':\\n\", array_x)"
   ]
  },
  {
   "cell_type": "markdown",
   "metadata": {},
   "source": [
    "<div class=\"alert alert-block alert-success\"><b>Practice 1 ends here.</b>\n",
    "\n",
    "</div>"
   ]
  },
  {
   "cell_type": "markdown",
   "metadata": {},
   "source": [
    "<div class=\"alert alert-block alert-info\">\n",
    "    \n",
    "<b>Tip:</b> Here, the NumPy function `np.random.default_rng()` creates a NumPy random number generator object with a bound method `.random()` that allows you to generate an arbitrary amount (3 in the example) of random numbers between 0 and 1.\n",
    "    \n",
    "</div>"
   ]
  },
  {
   "cell_type": "markdown",
   "metadata": {},
   "source": [
    "## Array attributes\n",
    "\n",
    "This section covers the [`.ndim`](https://numpy.org/doc/stable/reference/generated/numpy.ndim.html#numpy.ndim), [`.shape`](https://numpy.org/doc/stable/reference/generated/numpy.shape.html#numpy.shape), [`.size`](https://numpy.org/doc/stable/reference/generated/numpy.size.html#numpy.size), and [`.dtype`]() attributes of an array.\n",
    "\n",
    "The **number of dimensions** of an array is contained in the `.ndim` attribute:"
   ]
  },
  {
   "cell_type": "code",
   "execution_count": null,
   "metadata": {},
   "outputs": [],
   "source": [
    "# Create 1D and 2D arrays from scratch\n",
    "a = np.array([6, 5, 4, 3, 2, 1])\n",
    "b = np.array([[12, 11, 10, 9], [8, 7, 6, 5], [4, 3, 2, 1]])\n",
    "\n",
    "# Get the `.ndim` attribute for our 1D and 2D arrays\n",
    "print(a.ndim)\n",
    "print(b.ndim)"
   ]
  },
  {
   "cell_type": "markdown",
   "metadata": {},
   "source": [
    "The **shape** of an array is a tuple of non-negative integers that specify the number of elements along each dimension. It can be accessed via the `.shape` attribute:"
   ]
  },
  {
   "cell_type": "code",
   "execution_count": null,
   "metadata": {},
   "outputs": [],
   "source": [
    "# Get the `.shape` attribute for our 1D and 2D arrays\n",
    "print(a.shape)\n",
    "print(b.shape)"
   ]
  },
  {
   "cell_type": "markdown",
   "metadata": {},
   "source": [
    "Note that the length of array's shape matches its number of dimensions:"
   ]
  },
  {
   "cell_type": "code",
   "execution_count": null,
   "metadata": {},
   "outputs": [],
   "source": [
    "# Check if length of array's shape matches array number of dimensions\n",
    "print(len(a.shape) == a.ndim)\n",
    "print(len(b.shape) == b.ndim)"
   ]
  },
  {
   "cell_type": "markdown",
   "metadata": {},
   "source": [
    "The total number of elements of an array is given by its `.size` attribute."
   ]
  },
  {
   "cell_type": "code",
   "execution_count": null,
   "metadata": {},
   "outputs": [],
   "source": [
    "# Get the `.size` attribute for our 1D and 2D arrays\n",
    "print(a.size)\n",
    "print(b.size)"
   ]
  },
  {
   "cell_type": "markdown",
   "metadata": {},
   "source": [
    "Arrays are typically \"homogeneous\", meaning that they can only contain elements of one \"data type\". This **data type** is given its `.dtype` attribute."
   ]
  },
  {
   "cell_type": "code",
   "execution_count": null,
   "metadata": {},
   "outputs": [],
   "source": [
    "# Get the `.dtype` attribute for our 1D and 2D arrays\n",
    "print(a.dtype)\n",
    "print(b.dtype)"
   ]
  },
  {
   "cell_type": "markdown",
   "metadata": {},
   "source": [
    "## Creating arrays\n",
    "\n",
    "This section covers [`np.zeros()`](https://numpy.org/doc/stable/reference/generated/numpy.zeros.html#numpy.zeros), [`np.ones()`](https://numpy.org/doc/stable/reference/generated/numpy.ones.html#numpy.ones), [`np.random.default_rng()`](https://numpy.org/doc/stable/reference/random/generator.html#numpy.random.default_rng), [`np.arange()`](https://numpy.org/doc/stable/reference/generated/numpy.arange.html#numpy.arange), [`np.linspace()`](https://numpy.org/doc/stable/reference/generated/numpy.linspace.html#numpy-linspace).\n",
    "\n",
    "Besides creating an array from a sequence of elements, you can easily create an array filled with **ones**, **zeros** or **random numbers**:"
   ]
  },
  {
   "cell_type": "code",
   "execution_count": null,
   "metadata": {},
   "outputs": [],
   "source": [
    "# Create an array filled with zeroes\n",
    "print(np.ones(3))\n",
    "\n",
    "# Create an array filled with ones\n",
    "print(np.zeros(3))\n",
    "\n",
    "# Create an array filled random numbers\n",
    "print(np.random.default_rng().random(3))"
   ]
  },
  {
   "cell_type": "markdown",
   "metadata": {},
   "source": [
    "![np_ones_zeros_random](pics\\np_ones_zeros_random.png \"np_ones_zeros_random\")\n",
    "\n",
    "Picture from \"[*NumPy: the absolute basics for beginners*](https://numpy.org/doc/stable/user/absolute_beginners.html)\"."
   ]
  },
  {
   "cell_type": "markdown",
   "metadata": {},
   "source": [
    "<div class=\"alert alert-block alert-info\">\n",
    "    \n",
    "<b>Tip:</b> Here, the NumPy function `np.random.default_rng()` creates a **NumPy random number generator object** with a bound method `.random()` that allows you to generate an arbitrary amount (3 in the example) of random numbers between 0 and 1.\n",
    "    \n",
    "</div>"
   ]
  },
  {
   "cell_type": "markdown",
   "metadata": {},
   "source": [
    "You can also use `np.ones()`, `np.zeros()`, and `np.random.default_rng().random()` to create a 2D array if you give them a tuple defining its shape:"
   ]
  },
  {
   "cell_type": "code",
   "execution_count": null,
   "metadata": {},
   "outputs": [],
   "source": [
    "# Create a 2D array filled with zeroes\n",
    "print(np.ones((3, 2)), '\\n')\n",
    "\n",
    "# Create a 2D array filled with ones\n",
    "print(np.zeros((3, 2)), '\\n')\n",
    "\n",
    "# Create a 2D array filled random numbers\n",
    "print(np.random.default_rng().random((3, 2)))"
   ]
  },
  {
   "cell_type": "markdown",
   "metadata": {},
   "source": [
    "![np_ones_zeros_matrix](pics\\np_ones_zeros_matrix.png \"np_ones_zeros_matrix\")\n",
    "\n",
    "Picture from \"[*NumPy: the absolute basics for beginners*](https://numpy.org/doc/stable/user/absolute_beginners.html)\"."
   ]
  },
  {
   "cell_type": "markdown",
   "metadata": {},
   "source": [
    "In addition to ones, zeros or random numbers, you can also create an array with a range of numbers:"
   ]
  },
  {
   "cell_type": "code",
   "execution_count": null,
   "metadata": {},
   "outputs": [],
   "source": [
    "# Create an array with a range of ten (FLOAT) elements\n",
    "np.arange(10)"
   ]
  },
  {
   "cell_type": "markdown",
   "metadata": {},
   "source": [
    "You can even create an array that contains a range of equispaced numbers. To do this, you should specify the first number (`start` parameter), the last number (`stop` parameter), and the step size (`step` parameter):"
   ]
  },
  {
   "cell_type": "code",
   "execution_count": null,
   "metadata": {},
   "outputs": [],
   "source": [
    "# Create another array with a range of ten elements\n",
    "np.arange(start=2, stop=22, step=2)"
   ]
  },
  {
   "cell_type": "markdown",
   "metadata": {},
   "source": [
    "Note that how in this example, the last number (`stop=22`) has not been included in the array we just created (try `stop=23`). For this reason, sometimes is more intuitive to use `np.linspace()` instead of `np.arange()`. The function `np.linspace()` creates an array with a fixed number of elements (`num` parameter) that are evenly spaced in a specified interval (`start` and `stop` parameters, both included in the output array):"
   ]
  },
  {
   "cell_type": "code",
   "execution_count": null,
   "metadata": {},
   "outputs": [],
   "source": [
    "# Create array with eleven elements spanning from -2.5 to +2.5\n",
    "np.linspace(start=-2.5, stop=2.5, num=11)"
   ]
  },
  {
   "cell_type": "markdown",
   "metadata": {},
   "source": [
    "## Sorting, concatenating and reversing arrays\n",
    "\n",
    "This section covers [`np.sort()`](https://numpy.org/doc/stable/reference/generated/numpy.sort.html#numpy.sort), [`np.concatenate()`](https://numpy.org/doc/stable/reference/generated/numpy.concatenate.html#numpy-concatenate) and [`np.flip()`](https://numpy.org/doc/stable/reference/generated/numpy.flip.html#numpy.flip).\n",
    "\n",
    "### Sorting\n",
    "\n",
    "Sorting an array is simple with `np.sort()`. For example, you can quickly sort the elements in ascending order with:"
   ]
  },
  {
   "cell_type": "code",
   "execution_count": null,
   "metadata": {},
   "outputs": [],
   "source": [
    "# Create a 1D array from scratch\n",
    "a = np.array([7, 5, 7, 8, 1, 7])\n",
    "\n",
    "# Sort the 1D array\n",
    "np.sort(a)"
   ]
  },
  {
   "cell_type": "markdown",
   "metadata": {},
   "source": [
    "When you have a 2D array, you can sort across two axes by using the `axis` parameter of the `np.sort()` function. For example, if we have this array:"
   ]
  },
  {
   "cell_type": "code",
   "execution_count": null,
   "metadata": {},
   "outputs": [],
   "source": [
    "# Create a 2D array from scratch\n",
    "b = np.array([[0, 7, 9, 7], [1, 7, 2, 8], [6, 4, 9, 3]])\n",
    "\n",
    "# Show the 2D array\n",
    "b"
   ]
  },
  {
   "cell_type": "markdown",
   "metadata": {},
   "source": [
    "You could sort along the first (`0`) axis:"
   ]
  },
  {
   "cell_type": "code",
   "execution_count": null,
   "metadata": {},
   "outputs": [],
   "source": [
    "# Sort the 2D array across the first axis (across rows)\n",
    "array_b_RowSort = np.sort(b, axis=0)\n",
    "\n",
    "# Show the sorted 2D array\n",
    "array_b_RowSort"
   ]
  },
  {
   "cell_type": "markdown",
   "metadata": {},
   "source": [
    "Or you could sort along the second (`1`) axis:"
   ]
  },
  {
   "cell_type": "code",
   "execution_count": null,
   "metadata": {},
   "outputs": [],
   "source": [
    "# Sort the 2D array across the second axis (across columns)\n",
    "array_b_ColSort = np.sort(b, axis=1)\n",
    "\n",
    "# Show the sorted 2D array\n",
    "array_b_ColSort"
   ]
  },
  {
   "cell_type": "markdown",
   "metadata": {},
   "source": [
    "The default value of the `axis=` parameter is `-1`, meaning that, if we don't specify its value, `np.sort()` will order across the last (`-1`) axis (which, in our example, is the second (`1`) axis):"
   ]
  },
  {
   "cell_type": "code",
   "execution_count": null,
   "metadata": {},
   "outputs": [],
   "source": [
    "# Sort the 2D array across the last axis (without specifying the axis param)\n",
    "np.sort(b)"
   ]
  },
  {
   "cell_type": "code",
   "execution_count": null,
   "metadata": {},
   "outputs": [],
   "source": [
    "# Sort the 2D array across the last axis (specifying the axis param)\n",
    "np.sort(b, axis=-1)"
   ]
  },
  {
   "cell_type": "markdown",
   "metadata": {},
   "source": [
    "### Concatenating\n",
    "\n",
    "In addition, you can concatenate arrays with `np.concatenate()`:"
   ]
  },
  {
   "cell_type": "code",
   "execution_count": null,
   "metadata": {},
   "outputs": [],
   "source": [
    "# Concatenate two 2D arrays\n",
    "np.concatenate((array_b_RowSort, array_b_ColSort))"
   ]
  },
  {
   "cell_type": "markdown",
   "metadata": {},
   "source": [
    "### Reversing\n",
    "\n",
    "Finally, `np.flip()` allows you to reverse the contents of an array along an axis. To use `np.flip()`, you need to specify the array to be reversed, and the axis of along which your array should be reversed. If you begin with a 1D array like this one:"
   ]
  },
  {
   "cell_type": "code",
   "execution_count": null,
   "metadata": {},
   "outputs": [],
   "source": [
    "# Create a 1D array from scratch\n",
    "a = np.array([1, 2, 3, 4, 5, 6, 7, 8])\n",
    "\n",
    "# Show the 1D array\n",
    "a"
   ]
  },
  {
   "cell_type": "markdown",
   "metadata": {},
   "source": [
    "You can reverse it with:"
   ]
  },
  {
   "cell_type": "code",
   "execution_count": null,
   "metadata": {},
   "outputs": [],
   "source": [
    "# Flip the 1D array\n",
    "np.flip(a)"
   ]
  },
  {
   "cell_type": "markdown",
   "metadata": {},
   "source": [
    "Reversing 2D arrays with `np.flip()` works much the same way. If you start with this array:"
   ]
  },
  {
   "cell_type": "code",
   "execution_count": null,
   "metadata": {},
   "outputs": [],
   "source": [
    "# Create a 2D array from scratch\n",
    "b = np.array( [[1, 2, 3, 4], [5, 6, 7, 8], [9, 10, 11, 12]] )\n",
    "\n",
    "# Show the 2D array\n",
    "b"
   ]
  },
  {
   "cell_type": "markdown",
   "metadata": {},
   "source": [
    "If you don't specify the axis, NumPy will reverse the array along all axes:"
   ]
  },
  {
   "cell_type": "code",
   "execution_count": null,
   "metadata": {},
   "outputs": [],
   "source": [
    "# Flip the 2D array along all axes (without specifying the axis param)\n",
    "np.flip(b)"
   ]
  },
  {
   "cell_type": "markdown",
   "metadata": {},
   "source": [
    "You can easily reverse only the rows or only the columns specifying the axis param:"
   ]
  },
  {
   "cell_type": "code",
   "execution_count": null,
   "metadata": {},
   "outputs": [],
   "source": [
    "# Flip the 2D array along rows (with the axis set at 0)\n",
    "b_rowflip = np.flip(b, axis=0)\n",
    "\n",
    "# Show the 2D array\n",
    "print(b_rowflip)"
   ]
  },
  {
   "cell_type": "code",
   "execution_count": null,
   "metadata": {},
   "outputs": [],
   "source": [
    "# Flip the 2D array along cols (with the axis set at 1)\n",
    "b_colflip = np.flip(b, axis=1)\n",
    "\n",
    "# Show the 2D array\n",
    "print(b_colflip)"
   ]
  },
  {
   "cell_type": "markdown",
   "metadata": {},
   "source": [
    "You can also reverse the contents of only one column or row. For example, you can reverse the contents of the row at index position 1 (the second row):"
   ]
  },
  {
   "cell_type": "code",
   "execution_count": null,
   "metadata": {},
   "outputs": [],
   "source": [
    "# Flip only the 2nd row of the the 2D array...\n",
    "b[1, :] = np.flip(b[1, :])\n",
    "# ... and re-assign it as new 2nd row\n",
    "\n",
    "# Show the 2D array\n",
    "print(b)"
   ]
  },
  {
   "cell_type": "markdown",
   "metadata": {},
   "source": [
    "Analogously, you can also reverse the column at index position 1 (the second column):"
   ]
  },
  {
   "cell_type": "code",
   "execution_count": null,
   "metadata": {},
   "outputs": [],
   "source": [
    "# Flip only the 2nd row of the the 2D array...\n",
    "b[:, 1] = np.flip(b[:, 1])\n",
    "# ... and re-assign it as new 2nd row\n",
    "\n",
    "# Show the 2D array\n",
    "print(b)"
   ]
  },
  {
   "cell_type": "markdown",
   "metadata": {},
   "source": [
    "## Reshaping and flattening arrays\n",
    "\n",
    "This section covers [`.reshape()`](https://numpy.org/doc/stable/reference/generated/numpy.ndarray.reshape.html#numpy.ndarray.reshape) (also [`np.reshape()`](https://numpy.org/doc/stable/reference/generated/numpy.reshape.html#numpy.reshape)), [`.flatten()`](https://numpy.org/doc/stable/reference/generated/numpy.ndarray.flatten.html#numpy.ndarray.flatten) and [`.ravel()`](https://numpy.org/doc/stable/reference/generated/numpy.ravel.html#numpy.ravel).\n",
    "\n",
    "### Reshaping\n",
    "\n",
    "Using `.reshape()` (array method) or `np.reshape()` (NumPy function) will give a new shape to an existing array without changing the data. Just remember that when you use the reshape method, **the array you want to produce needs to have the same number of elements as the original array**."
   ]
  },
  {
   "cell_type": "code",
   "execution_count": null,
   "metadata": {},
   "outputs": [],
   "source": [
    "# Create a 1D array from scratch\n",
    "a = np.arange(6)\n",
    "\n",
    "# Show the 1D array\n",
    "a"
   ]
  },
  {
   "cell_type": "code",
   "execution_count": null,
   "metadata": {},
   "outputs": [],
   "source": [
    "# Reshape our 1D array into a 3x2 2D array\n",
    "a.reshape(3, 2)"
   ]
  },
  {
   "cell_type": "markdown",
   "metadata": {},
   "source": [
    "Alternatively, you can do the same using the `np.reshape()` NumPy function specifying its `shape=` parameter:"
   ]
  },
  {
   "cell_type": "code",
   "execution_count": null,
   "metadata": {},
   "outputs": [],
   "source": [
    "# Reshape our 1D array into a 3x2 2D array\n",
    "np.reshape(a, shape=(3, 2))"
   ]
  },
  {
   "cell_type": "markdown",
   "metadata": {},
   "source": [
    "<div class=\"alert alert-block alert-info\"><b>Tip:</b> Intuitively, the product of all \"reshaping shapes\" (in the example above, $3 \\times 2$) must be equal to the number of elements of the array to be reshaped (in the example above, $6$).\n",
    "</div>"
   ]
  },
  {
   "cell_type": "markdown",
   "metadata": {},
   "source": [
    "### Flattening\n",
    "\n",
    "By \"flattening\" we understand reshaping an ND-array to a 1D-array with shape $(S,)$, where $S$ is the size of the original ND-array. There are two popular methods to flatten an array: `.flatten()` and `.ravel()`. If you start with this array:"
   ]
  },
  {
   "cell_type": "code",
   "execution_count": null,
   "metadata": {},
   "outputs": [],
   "source": [
    "# Create a 2D array from scratch\n",
    "a = np.array([[1, 2, 3, 4], [5, 6, 7, 8], [9, 10, 11, 12]])\n",
    "\n",
    "# Show the 2D array\n",
    "print(a, '\\n')\n",
    "\n",
    "# Show the size of the flattened array\n",
    "print(a.size)"
   ]
  },
  {
   "cell_type": "markdown",
   "metadata": {},
   "source": [
    "You can use `.flatten()` to flatten your array into a 1D array."
   ]
  },
  {
   "cell_type": "code",
   "execution_count": null,
   "metadata": {},
   "outputs": [],
   "source": [
    "# Flatten a 2D array\n",
    "a_flat = a.flatten()\n",
    "\n",
    "# Show the flattened array\n",
    "print(a_flat)"
   ]
  },
  {
   "cell_type": "markdown",
   "metadata": {},
   "source": [
    "Note the size, the shape and the number of dimensions of the flattened array: "
   ]
  },
  {
   "cell_type": "code",
   "execution_count": null,
   "metadata": {},
   "outputs": [],
   "source": [
    "# Show the size of the flattened array\n",
    "print(a_flat.size, '\\n')\n",
    "\n",
    "# Show the shape of the flattened array\n",
    "print(a_flat.shape, '\\n')\n",
    "\n",
    "# Show the number of dimensions of the flattened array\n",
    "print(a_flat.ndim)"
   ]
  },
  {
   "cell_type": "markdown",
   "metadata": {},
   "source": [
    "Analogously with `.ravel()`: "
   ]
  },
  {
   "cell_type": "code",
   "execution_count": null,
   "metadata": {},
   "outputs": [],
   "source": [
    "# Ravel a 2D array\n",
    "a_ravel = a.ravel()\n",
    "\n",
    "# Show the ravelled array\n",
    "print(a_ravel)"
   ]
  },
  {
   "cell_type": "code",
   "execution_count": null,
   "metadata": {},
   "outputs": [],
   "source": [
    "# Show the size of the ravelled array\n",
    "print(a_ravel.size, '\\n')\n",
    "\n",
    "# Show the shape of the ravelled array\n",
    "print(a_ravel.shape, '\\n')\n",
    "\n",
    "# Show the number of dimensions of the ravelled array\n",
    "print(a_ravel.ndim)"
   ]
  },
  {
   "cell_type": "markdown",
   "metadata": {},
   "source": [
    "The primary difference between `.flatten()` and `.ravel()` is that the new array created using `ravel()` is actually a reference to the parent array (i.e., a \"view\", as we already have seen above). This means that any changes to the new array will affect the parent array as well. Since ravel does not create a copy, it's memory efficient."
   ]
  },
  {
   "cell_type": "markdown",
   "metadata": {},
   "source": [
    "## Slicing and indexing arrays\n",
    "\n",
    "You can index and slice NumPy arrays in the same ways you can slice Python lists. Have a look to the [second part of Chapter 1](./02_Intro.ipynb) to check it out."
   ]
  },
  {
   "cell_type": "code",
   "execution_count": null,
   "metadata": {},
   "outputs": [],
   "source": [
    "# Create a 1D array from scratch\n",
    "data = np.array([1, 2, 3])\n",
    "\n",
    "# Show the 1D array\n",
    "data"
   ]
  },
  {
   "cell_type": "code",
   "execution_count": null,
   "metadata": {},
   "outputs": [],
   "source": [
    "# Print the 1st item (0) of our 1D array\n",
    "print(data[0], '\\n')\n",
    "\n",
    "# Print the 2nd item (1) of our 1D array\n",
    "print(data[1], '\\n')\n",
    "\n",
    "# Print the slice going from the 1st item (0, included) to the 3rd item (2, excluded) of our 1D array\n",
    "print(data[0:2], '\\n')\n",
    "\n",
    "# Print the slice going from the 2nd item (1, included) to the last item ( , included) of our 1D array\n",
    "print(data[1:], '\\n')\n",
    "\n",
    "# Print the slice going from penultimate item (-2, included) to the last item ( , included) of our 1D array\n",
    "print(data[-2:])"
   ]
  },
  {
   "cell_type": "markdown",
   "metadata": {},
   "source": [
    "![np_indexing](pics\\np_indexing.png \"np_indexing\")\n",
    "\n",
    "Picture from \"[*NumPy: the absolute basics for beginners*](https://numpy.org/doc/stable/user/absolute_beginners.html)\"."
   ]
  },
  {
   "cell_type": "markdown",
   "metadata": {},
   "source": [
    "You may want to take a section of your array or specific array elements to use in further analysis or additional operations. To do that, you'll need to subset, slice, and/or index your arrays. If you want to select values from your array that fulfill certain conditions, it's straightforward with NumPy. For example, if you start with this array:"
   ]
  },
  {
   "cell_type": "code",
   "execution_count": null,
   "metadata": {},
   "outputs": [],
   "source": [
    "# Create a 2D array from scratch\n",
    "a = np.array([[1, 2, 3, 4], [5, 6, 7, 8], [9, 10, 11, 12]])\n",
    "\n",
    "# Show the 2D array\n",
    "a"
   ]
  },
  {
   "cell_type": "markdown",
   "metadata": {},
   "source": [
    "You can easily print all of the values in the array that are less or equal than 5."
   ]
  },
  {
   "cell_type": "code",
   "execution_count": null,
   "metadata": {},
   "outputs": [],
   "source": [
    "# Ask which array elements are less-equal than 5\n",
    "a <= 5"
   ]
  },
  {
   "cell_type": "markdown",
   "metadata": {},
   "source": [
    "Now you can use this \"boolean array\" to pick up the array elements that are less or equal than 5: "
   ]
  },
  {
   "cell_type": "code",
   "execution_count": null,
   "metadata": {},
   "outputs": [],
   "source": [
    "# Ask which array elements are less-equal than 5, and store the boolean array\n",
    "a_bool = a <= 5\n",
    "\n",
    "# Use the boolean array to pick the array elements we want\n",
    "a[a_bool]"
   ]
  },
  {
   "cell_type": "markdown",
   "metadata": {},
   "source": [
    "<div class=\"alert alert-block alert-success\"><b>Practice 2:</b>\n",
    "\n",
    "Use array indexing and slicing to pick up only those array elements being divisible by 2 and 3 at the same time:\n",
    "    \n",
    "1) Create a \"boolean array\" called `a_bool_div2` indexing those array elements divisible by 2. \n",
    "\n",
    "2) Create a \"boolean array\" called `a_bool_div3` indexing those array elements divisible by 3. \n",
    "\n",
    "3) Use the \"boolean arrays\" `a_bool_div2` and `a_bool_div3` to pick up the elements being divisible by 2 and 3.\n",
    "\n",
    "Un-comment and fill only those code lines with underscores `___`.\n",
    "\n",
    "</div>"
   ]
  },
  {
   "cell_type": "code",
   "execution_count": null,
   "metadata": {},
   "outputs": [],
   "source": [
    "# Create a 2D array from scratch\n",
    "a = np.array([[1, 2, 3, 4], [5, 6, 7, 8], [9, 10, 11, 12]])\n",
    "\n",
    "# Ask which array elements are divisible by 2, and store the boolean array\n",
    "# a_bool_div2 = ___\n",
    "\n",
    "# Ask which array elements are divisible by 3, and store the boolean array\n",
    "# a_bool_div3 = ___\n",
    "\n",
    "# Use a_bool_div2 and a_bool_div3 to pick the array elements we want\n",
    "# print(a[___])"
   ]
  },
  {
   "cell_type": "code",
   "execution_count": null,
   "metadata": {
    "jupyter": {
     "source_hidden": true
    }
   },
   "outputs": [],
   "source": [
    "# Create a 2D array from scratch\n",
    "a = np.array([[1, 2, 3, 4], [5, 6, 7, 8], [9, 10, 11, 12]])\n",
    "\n",
    "# Ask which array elements are divisible by 2, and store the boolean array\n",
    "a_bool_div2 = a%2 == 0\n",
    "\n",
    "# Ask which array elements are divisible by 3, and store the boolean array\n",
    "a_bool_div3 = a%3 == 0\n",
    "\n",
    "# Use a_bool_div2 and a_bool_div3 to pick the array elements we want\n",
    "print(a[a_bool_div2 & a_bool_div3])"
   ]
  },
  {
   "cell_type": "markdown",
   "metadata": {},
   "source": [
    "<div class=\"alert alert-block alert-success\"><b>Practice 2 ends here.</b>\n",
    "\n",
    "</div>"
   ]
  },
  {
   "cell_type": "markdown",
   "metadata": {},
   "source": [
    "Slicing works analogously for 2D arrays:"
   ]
  },
  {
   "cell_type": "code",
   "execution_count": null,
   "metadata": {},
   "outputs": [],
   "source": [
    "# Create a 2D array from scratch\n",
    "data = np.array([[1, 2], [3, 4], [5, 6]])\n",
    "\n",
    "# Show the 2D array\n",
    "data"
   ]
  },
  {
   "cell_type": "markdown",
   "metadata": {},
   "source": [
    "![np_create_matrix](pics\\np_create_matrix.png \"np_create_matrix\")\n",
    "\n",
    "Picture from \"[*NumPy: the absolute basics for beginners*](https://numpy.org/doc/stable/user/absolute_beginners.html)\"."
   ]
  },
  {
   "cell_type": "code",
   "execution_count": null,
   "metadata": {},
   "outputs": [],
   "source": [
    "# Print the item at the 1st row (0) 2nd col (1) of our 2D array\n",
    "print(data[0, 1], '\\n')\n",
    "\n",
    "# Print the rows from the 2nd (1) to the 4th (3, excluded) of our 2D array\n",
    "print(data[1:3], '\\n')\n",
    "\n",
    "# Print the rows from the 1st (0) to the 3rd (2, excluded) of our 2D array\n",
    "print(data[0:2, 0])\n",
    "# But only the items of the 1st (0) col"
   ]
  },
  {
   "cell_type": "markdown",
   "metadata": {},
   "source": [
    "![np_matrix_indexing](pics\\np_matrix_indexing.png \"np_matrix_indexing\")\n",
    "\n",
    "Picture from \"[*NumPy: the absolute basics for beginners*](https://numpy.org/doc/stable/user/absolute_beginners.html)\"."
   ]
  },
  {
   "cell_type": "markdown",
   "metadata": {},
   "source": [
    "## Aggregating arrays and operating with arrays\n",
    "\n",
    "This section covers some basic array **aggregation** methods/functions (mean, median, standard deviation, minimum, maximum...) and a few additional utilities with [`np.unique()`](https://numpy.org/doc/stable/reference/generated/numpy.unique.html#numpy.unique). Finally we will learn the arithmetic (element-wise) operations **addition**, **subtraction**, **multiplication** and **division**.\n",
    "\n",
    "### Aggregating\n",
    "\n",
    "Basic aggregating operations are simple with NumPy. If you want to find, for example, the sum of the elements in an array, you'd use the `.sum()` method. This works for 1D arrays, 2D arrays, and arrays in higher dimensions."
   ]
  },
  {
   "cell_type": "code",
   "execution_count": null,
   "metadata": {},
   "outputs": [],
   "source": [
    "# Create a 1D array from scratch\n",
    "a = np.array([1, 2, 3, 4])\n",
    "\n",
    "# Aggregate the array with the sum\n",
    "a.sum()"
   ]
  },
  {
   "cell_type": "markdown",
   "metadata": {},
   "source": [
    "As usual, you can use other array methods (like `.mean()`, `std()`, `.min()`, `.max()`...) or NumPy functions (like `np.mean()`, `np.median()`, `np.std()`, `np.min()`, `np.max()`...) to aggregate array elements:"
   ]
  },
  {
   "cell_type": "code",
   "execution_count": null,
   "metadata": {},
   "outputs": [],
   "source": [
    "# Aggregate the array with methods (mean, std, min, max...)\n",
    "print(a.mean())\n",
    "print(a.std())\n",
    "print(a.min())\n",
    "print(a.max())"
   ]
  },
  {
   "cell_type": "code",
   "execution_count": null,
   "metadata": {},
   "outputs": [],
   "source": [
    "# Aggregate the array with functions (mean, std, min, max...)\n",
    "print(np.mean(a))\n",
    "print(np.median(a))\n",
    "print(np.std(a))\n",
    "print(np.min(a))\n",
    "print(np.max(a))"
   ]
  },
  {
   "cell_type": "markdown",
   "metadata": {},
   "source": [
    "You can aggregate 2D arrays (across all axes) as simple as:"
   ]
  },
  {
   "cell_type": "code",
   "execution_count": null,
   "metadata": {},
   "outputs": [],
   "source": [
    "# Create a 2D array from scratch\n",
    "data = np.array([[1, 2], [3, 4], [5, 6]])\n",
    "\n",
    "# Show the 2D array\n",
    "data"
   ]
  },
  {
   "cell_type": "code",
   "execution_count": null,
   "metadata": {},
   "outputs": [],
   "source": [
    "# Aggregate the 2D array with methods (max, min, sum...)\n",
    "print(data.max())\n",
    "print(data.min())\n",
    "print(data.sum())"
   ]
  },
  {
   "cell_type": "markdown",
   "metadata": {},
   "source": [
    "#### ![np_matrix_aggregation](pics\\np_matrix_aggregation.png \"np_matrix_aggregation\")\n",
    "\n",
    "Picture from \"[*NumPy: the absolute basics for beginners*](https://numpy.org/doc/stable/user/absolute_beginners.html)\"."
   ]
  },
  {
   "cell_type": "markdown",
   "metadata": {},
   "source": [
    "You can also aggregate the values in a 2D array across columns or rows by using the `axis=` parameter. To illustrate this point, let's look at a slightly modified dataset:"
   ]
  },
  {
   "cell_type": "code",
   "execution_count": null,
   "metadata": {},
   "outputs": [],
   "source": [
    "# Create a 2D array from scratch\n",
    "data = np.array([[1, 2], [5, 3], [4, 6]])\n",
    "\n",
    "# Show the 2D array\n",
    "data"
   ]
  },
  {
   "cell_type": "code",
   "execution_count": null,
   "metadata": {},
   "outputs": [],
   "source": [
    "# Aggregate 2D array across rows with the max\n",
    "print(data.max(axis=0))\n",
    "\n",
    "# Aggregate 2D array across cols with the max\n",
    "print(data.max(axis=1))"
   ]
  },
  {
   "cell_type": "markdown",
   "metadata": {},
   "source": [
    "![np_matrix_aggregation_row](pics\\np_matrix_aggregation_row.png \"np_matrix_aggregation_row\")\n",
    "\n",
    "Picture from \"[*NumPy: the absolute basics for beginners*](https://numpy.org/doc/stable/user/absolute_beginners.html)\"."
   ]
  },
  {
   "cell_type": "markdown",
   "metadata": {},
   "source": [
    "You can find the unique elements in an array easily with `np.unique()`. For example, if you start with this array:"
   ]
  },
  {
   "cell_type": "code",
   "execution_count": null,
   "metadata": {},
   "outputs": [],
   "source": [
    "# Create a 1D array from scratch\n",
    "a = np.array([11, 11, 12, 13, 14, 15, 16, 17, 12, 13, 11, 14, 18, 19, 20])"
   ]
  },
  {
   "cell_type": "markdown",
   "metadata": {},
   "source": [
    "You can use `np.unique()` to get the unique values in your array:"
   ]
  },
  {
   "cell_type": "code",
   "execution_count": null,
   "metadata": {},
   "outputs": [],
   "source": [
    "# Get unique items in the 1D array\n",
    "np.unique(a)"
   ]
  },
  {
   "cell_type": "markdown",
   "metadata": {},
   "source": [
    "You can use the `return_index` argument in `np.unique()` to get the indices of unique values in a NumPy array (an array of first index positions of unique values in the array):"
   ]
  },
  {
   "cell_type": "code",
   "execution_count": null,
   "metadata": {},
   "outputs": [],
   "source": [
    "# Get unique items in the 1D array along with their corresponding indices\n",
    "tup_a_unique = np.unique(a, return_index=True)\n",
    "\n",
    "# Print the tuple with unique items and indices of the 1D array\n",
    "print(tup_a_unique)"
   ]
  },
  {
   "cell_type": "markdown",
   "metadata": {},
   "source": [
    "Note that `np.unique()` with `return_index=True`, returned a tuple with two elements within: the first one is a new array with the **unique items** of the original array, and the second one is a new array with **the indices of the unique items** of the original array."
   ]
  },
  {
   "cell_type": "markdown",
   "metadata": {},
   "source": [
    "You can add the `return_counts=True` argument in `np.unique()` along with your array to get the frequency count of unique values in a NumPy array:"
   ]
  },
  {
   "cell_type": "code",
   "execution_count": null,
   "metadata": {},
   "outputs": [],
   "source": [
    "# Get unique items in the 1D array along with their corresponding indices and frequencies\n",
    "tup_a_unique = np.unique(a, return_index=True, return_counts=True)\n",
    "\n",
    "# Print the tuple with unique items, indices and frequencies of the 1D array\n",
    "print(tup_a_unique)"
   ]
  },
  {
   "cell_type": "markdown",
   "metadata": {},
   "source": [
    "All this also works with 2D arrays! If you start with this array:"
   ]
  },
  {
   "cell_type": "code",
   "execution_count": null,
   "metadata": {},
   "outputs": [],
   "source": [
    "# Create a 2D array from scratch\n",
    "b = np.array([[1, 1, 3, 4], [5, 5, 7, 8], [9, 9, 11, 12], [1, 1, 3, 4]])\n",
    "\n",
    "# Get unique items in the 2D array along with their corresponding indices and frequencies\n",
    "tup_b_unique = np.unique(b, return_index=True, return_counts=True)\n",
    "\n",
    "# Print the tuple with unique items, indices and frequencies of the 2D array\n",
    "print(tup_b_unique)"
   ]
  },
  {
   "cell_type": "markdown",
   "metadata": {},
   "source": [
    "Note that `np.unique()` implicitly flattens the 2D array before determining unique items, indices and frequencies.\n",
    "\n",
    "Finally, if you want to get the unique rows or columns, make sure to pass the `axis=` argument. To find the unique rows, specify `axis=0` and for columns, specify `axis=1`:"
   ]
  },
  {
   "cell_type": "code",
   "execution_count": null,
   "metadata": {},
   "outputs": [],
   "source": [
    "# Get unique rows in the 2D array along with their corresponding indices and frequencies\n",
    "np.unique(b, axis=0, return_index=True, return_counts=True)\n",
    "# Rows 0 and 3 are identical (1, 1, 3, 4)"
   ]
  },
  {
   "cell_type": "code",
   "execution_count": null,
   "metadata": {},
   "outputs": [],
   "source": [
    "# Get unique cols in the 2D array along with their corresponding indices and frequencies\n",
    "np.unique(b, axis=1, return_index=True, return_counts=True)\n",
    "# Cols 0 and 1 are identical (1, 5, 9, 1)"
   ]
  },
  {
   "cell_type": "markdown",
   "metadata": {},
   "source": [
    "### Operating\n",
    "\n",
    "Finally, you can also perform basic arithmetic operations with arrays. Let's say, for example, that you've created two arrays, called `data` and `one`:"
   ]
  },
  {
   "cell_type": "code",
   "execution_count": null,
   "metadata": {},
   "outputs": [],
   "source": [
    "# Create a couple 1D arrays from scratch\n",
    "data = np.array([1, 2])\n",
    "ones = np.ones(2, dtype=int)\n",
    "\n",
    "# Show the two arrays we just created\n",
    "print(data)\n",
    "print(ones)"
   ]
  },
  {
   "cell_type": "markdown",
   "metadata": {},
   "source": [
    "![np_array_dataones](pics\\np_array_dataones.png \"np_array_dataones\")\n",
    "\n",
    "Picture from \"[*NumPy: the absolute basics for beginners*](https://numpy.org/doc/stable/user/absolute_beginners.html)\"."
   ]
  },
  {
   "cell_type": "markdown",
   "metadata": {},
   "source": [
    "You can add the arrays together with the plus sign `+`:"
   ]
  },
  {
   "cell_type": "code",
   "execution_count": null,
   "metadata": {},
   "outputs": [],
   "source": [
    "# Sum the two arrays we just created \n",
    "data + ones"
   ]
  },
  {
   "cell_type": "markdown",
   "metadata": {},
   "source": [
    "![np_data_plus_ones](pics\\np_data_plus_ones.png \"np_data_plus_ones\")\n",
    "\n",
    "Picture from \"[*NumPy: the absolute basics for beginners*](https://numpy.org/doc/stable/user/absolute_beginners.html)\"."
   ]
  },
  {
   "cell_type": "markdown",
   "metadata": {},
   "source": [
    "You can also subtract `-`, multiple `*` and divide `/`:"
   ]
  },
  {
   "cell_type": "code",
   "execution_count": null,
   "metadata": {},
   "outputs": [],
   "source": [
    "# Sum the two arrays we just created \n",
    "print(data - ones)\n",
    "\n",
    "# Sum the two arrays we just created \n",
    "print(data * data)\n",
    "\n",
    "# Sum the two arrays we just created \n",
    "print(data / data)"
   ]
  },
  {
   "cell_type": "markdown",
   "metadata": {},
   "source": [
    "![np_sub_mult_divide](pics\\np_sub_mult_divide.png \"np_sub_mult_divide\")\n",
    "\n",
    "Picture from \"[*NumPy: the absolute basics for beginners*](https://numpy.org/doc/stable/user/absolute_beginners.html)\"."
   ]
  },
  {
   "cell_type": "markdown",
   "metadata": {},
   "source": [
    "And very similarly for 2D arrays:"
   ]
  },
  {
   "cell_type": "code",
   "execution_count": null,
   "metadata": {},
   "outputs": [],
   "source": [
    "# Create a couple 2D arrays from scratch\n",
    "data = np.array([[1, 2], [3, 4]])\n",
    "ones = np.array([[1, 1], [1, 1]])\n",
    "\n",
    "# Show the two arrays we just created\n",
    "print(data, '\\n')\n",
    "print(ones)"
   ]
  },
  {
   "cell_type": "code",
   "execution_count": null,
   "metadata": {},
   "outputs": [],
   "source": [
    "# Sum the two 2D arrays we just created \n",
    "data + ones"
   ]
  },
  {
   "cell_type": "markdown",
   "metadata": {},
   "source": [
    "![np_matrix_arithmetic](pics\\np_matrix_arithmetic.png \"np_matrix_arithmetic\")\n",
    "\n",
    "Picture from \"[*NumPy: the absolute basics for beginners*](https://numpy.org/doc/stable/user/absolute_beginners.html)\"."
   ]
  },
  {
   "cell_type": "markdown",
   "metadata": {},
   "source": [
    "When we operate (`+`, `-`, `*`, `/`, etc..) two \"same-shaped\" arrays, the operation takes place \"element-wise\", but... what happens if the shapes of the operated arrays are different? Let's see..."
   ]
  },
  {
   "cell_type": "code",
   "execution_count": null,
   "metadata": {},
   "outputs": [],
   "source": [
    "# Create a couple 2D or 1D arrays from scratch\n",
    "data = np.array([[1, 2], [3, 4], [5, 6]])\n",
    "ones = np.array([[1, 1]])\n",
    "\n",
    "# Show the two arrays we just created\n",
    "print(data, '\\n')\n",
    "print(ones)"
   ]
  },
  {
   "cell_type": "code",
   "execution_count": null,
   "metadata": {},
   "outputs": [],
   "source": [
    "# Sum the two arrays we just created (2D and 1D)\n",
    "data + ones"
   ]
  },
  {
   "cell_type": "markdown",
   "metadata": {},
   "source": [
    "![np_matrix_broadcasting](pics\\np_matrix_broadcasting.png \"np_matrix_broadcasting\")\n",
    "\n",
    "Picture from \"[*NumPy: the absolute basics for beginners*](https://numpy.org/doc/stable/user/absolute_beginners.html)\"."
   ]
  },
  {
   "cell_type": "markdown",
   "metadata": {},
   "source": [
    "Note that the array with the \"smaller\" shape (1, 2) automatically \"broadens\" to match the \"bigger\" shape of the other array (3, 2).\n",
    "\n",
    "When NumPy has to perform and operation involving arrays of different shapes, internally \"adapts\" their shapes in order to being able to proceed with the operation. This is an example of a NumPy concept called **broadcasting**."
   ]
  },
  {
   "cell_type": "markdown",
   "metadata": {},
   "source": [
    "## Broadcasting\n",
    "\n",
    "There are times when you might want to carry out an operation between an array and a single number (also called an operation between a vector and a scalar) or between arrays of two different sizes. For example, your array (we’ll call it “data”) might contain information about distance in miles but you want to convert the information to kilometers. You can perform this operation with:"
   ]
  },
  {
   "cell_type": "code",
   "execution_count": null,
   "metadata": {},
   "outputs": [],
   "source": [
    "data = np.array([1.0, 2.0])\n",
    "\n",
    "data * 1.6\n",
    "array([1.6, 3.2])"
   ]
  },
  {
   "cell_type": "markdown",
   "metadata": {},
   "source": [
    "![np_multiply_broadcasting](pics\\np_multiply_broadcasting.png \"np_multiply_broadcasting\")\n",
    "\n",
    "Picture from \"[*NumPy: the absolute basics for beginners*](https://numpy.org/doc/stable/user/absolute_beginners.html)\"."
   ]
  },
  {
   "cell_type": "markdown",
   "metadata": {},
   "source": [
    "NumPy understands that the multiplication should happen **element-wise**. That concept is called broadcasting. Broadcasting is a mechanism that allows NumPy to perform operations on arrays of different shapes. The dimensions of your array must be compatible, for example, when the dimensions of both arrays are equal or when one of them is 1. If the dimensions are not compatible, you will get a ValueError."
   ]
  },
  {
   "cell_type": "markdown",
   "metadata": {},
   "source": [
    "## Extra concepts\n",
    "\n",
    "We will end this NumPy tutorial with a couple of concepts that you will need to know (or refresh) for your upcoming lectures on *Machine Learning* and *Bayesian Statistics*. NumPy has an extensive toolbox to work with **random numbers** and **linear algebra**. Let's see some of it's capabilities!"
   ]
  },
  {
   "cell_type": "markdown",
   "metadata": {},
   "source": [
    "### Generating random numbers\n",
    "\n",
    "Random number generation is an important part of the configuration and evaluation of many numerical and machine learning algorithms. Whether you need to randomly initialize weights in an artificial neural network, split data into random sets, or randomly shuffle your dataset, being able to generate random numbers (actually, repeatable pseudo-random numbers) is essential.\n",
    "\n",
    "With NumPy you can, for example, generate a 2 x 4 array of random integers between 0 and 4 with:"
   ]
  },
  {
   "cell_type": "code",
   "execution_count": 7,
   "metadata": {},
   "outputs": [
    {
     "data": {
      "text/plain": [
       "array([[1, 3, 4, 4],\n",
       "       [2, 2, 1, 3]])"
      ]
     },
     "execution_count": 7,
     "metadata": {},
     "output_type": "execute_result"
    }
   ],
   "source": [
    "# Initiate a NumPy random number generator object (we will call \"rgn\")\n",
    "rng = np.random.default_rng()\n",
    "\n",
    "# Use the \"rgn\" to create a 2D array (2,4)-shaped filled with random integers (from 0 to 4)\n",
    "rng.integers(5, size=(2, 4))"
   ]
  },
  {
   "cell_type": "markdown",
   "metadata": {},
   "source": [
    "<div class=\"alert alert-block alert-info\">\n",
    "    \n",
    "<b>Tip:</b> Remember that, the NumPy function `np.random.default_rng()` creates a **NumPy random number generator object** with many a bound methods. We have [already seen the `.random()` method](#Creating-arrays) and now we are seen the `.integers()` method.\n",
    "\n",
    "    \n",
    "</div>"
   ]
  },
  {
   "cell_type": "markdown",
   "metadata": {},
   "source": [
    "Note that `np.random.default_rng().integers()`, generates random integers from 0 (included) to 5 (excluded). This means that in practice, you are creating random integers from 0 (included) to 4 (included). You can set the `endpoint=True` argument of the `.integers()` method to include the integer \"endpoint\":"
   ]
  },
  {
   "cell_type": "code",
   "execution_count": 9,
   "metadata": {},
   "outputs": [
    {
     "data": {
      "text/plain": [
       "array([[1, 1, 4, 2],\n",
       "       [5, 0, 1, 4]])"
      ]
     },
     "execution_count": 9,
     "metadata": {},
     "output_type": "execute_result"
    }
   ],
   "source": [
    "# Use the \"rgn\" to create a (2,4)-shaped 2D array filled with random integers (from 0 to 5)\n",
    "rng.integers(5, size=(2, 4), endpoint=True)"
   ]
  },
  {
   "cell_type": "markdown",
   "metadata": {},
   "source": [
    "One crucial point when working with random numbers is being able to keep the reproducibility. Note what happens when we execute the same code two times independently: "
   ]
  },
  {
   "cell_type": "code",
   "execution_count": 42,
   "metadata": {},
   "outputs": [
    {
     "data": {
      "text/plain": [
       "array([[0, 1, 3],\n",
       "       [9, 7, 1],\n",
       "       [2, 0, 7]])"
      ]
     },
     "execution_count": 42,
     "metadata": {},
     "output_type": "execute_result"
    }
   ],
   "source": [
    "# 1ST EXECUTION\n",
    "\n",
    "# Create a (3,3)-shaped 2D array filled with random integers (from -9 to +9)\n",
    "np.random.default_rng().integers(9, size=(3, 3), endpoint=True)"
   ]
  },
  {
   "cell_type": "code",
   "execution_count": 43,
   "metadata": {},
   "outputs": [
    {
     "data": {
      "text/plain": [
       "array([[6, 3, 4],\n",
       "       [4, 0, 3],\n",
       "       [1, 2, 8]])"
      ]
     },
     "execution_count": 43,
     "metadata": {},
     "output_type": "execute_result"
    }
   ],
   "source": [
    "# 2ND EXECUTION\n",
    "\n",
    "# Create a (3,3)-shaped 2D array filled with random integers (from -9 to +9)\n",
    "np.random.default_rng().integers(9, size=(3, 3), endpoint=True)"
   ]
  },
  {
   "cell_type": "markdown",
   "metadata": {},
   "source": [
    "Both executions (most likely...) gave different (3,3)-shaped 2D arrays. It impossible working with random numbers in a reproducible way then? Of course not! Note how by \"seeding\" the random number generator you (and your collaborators) will be able to work with **reproducible random numbers**:"
   ]
  },
  {
   "cell_type": "code",
   "execution_count": 46,
   "metadata": {},
   "outputs": [
    {
     "data": {
      "text/plain": [
       "array([[3, 2, 1],\n",
       "       [4, 4, 5],\n",
       "       [9, 0, 4]])"
      ]
     },
     "execution_count": 46,
     "metadata": {},
     "output_type": "execute_result"
    }
   ],
   "source": [
    "# 1ST EXECUTION\n",
    "\n",
    "# Create a (3,3)-shaped 2D array filled with random integers (from -9 to +9)\n",
    "np.random.default_rng(seed=1985).integers(9, size=(3, 3), endpoint=True)"
   ]
  },
  {
   "cell_type": "code",
   "execution_count": 47,
   "metadata": {},
   "outputs": [
    {
     "data": {
      "text/plain": [
       "array([[3, 2, 1],\n",
       "       [4, 4, 5],\n",
       "       [9, 0, 4]])"
      ]
     },
     "execution_count": 47,
     "metadata": {},
     "output_type": "execute_result"
    }
   ],
   "source": [
    "# 2ND EXECUTION\n",
    "\n",
    "# Create a (3,3)-shaped 2D array filled with random integers (from -9 to +9)\n",
    "np.random.default_rng(seed=1985).integers(9, size=(3, 3), endpoint=True)"
   ]
  },
  {
   "cell_type": "markdown",
   "metadata": {},
   "source": [
    "With this $1985$ seed, You should have gotten this result:\n",
    "\n",
    "$$\n",
    "\\begin{aligned}\n",
    "&\\begin{array}{|c|c|c|}\n",
    "\\hline 3 & 2 & 1 \\\\ \\hline\n",
    "\\hline 4 & 4 & 5 \\\\ \\hline\n",
    "\\hline 9 & 0 & 4 \\\\ \\hline\n",
    "\\end{array}\n",
    "\\end{aligned}\n",
    "$$"
   ]
  },
  {
   "cell_type": "markdown",
   "metadata": {},
   "source": [
    "NumPy random generation capabilities are very flexible and not only restricted to random integers. In fact, NumPy is able to generate random numbers of [almost any distribution](https://numpy.org/doc/stable/reference/random/generator.html#distributions):"
   ]
  },
  {
   "cell_type": "code",
   "execution_count": 120,
   "metadata": {},
   "outputs": [
    {
     "data": {
      "text/plain": [
       "array([-0.57056628, -0.0441566 ,  0.16351838, -0.98634305, -0.24484155,\n",
       "       -0.52444642, -0.91988755,  0.09719779, -0.03625638,  0.74664328,\n",
       "        0.85450662,  0.53899881, -0.18443001,  0.67609393,  0.31651643])"
      ]
     },
     "execution_count": 120,
     "metadata": {},
     "output_type": "execute_result"
    }
   ],
   "source": [
    "# Uniform distribution\n",
    "np.random.default_rng(seed=1985).uniform(low=-1, high=+1, size=15)"
   ]
  },
  {
   "cell_type": "code",
   "execution_count": 121,
   "metadata": {},
   "outputs": [
    {
     "data": {
      "text/plain": [
       "array([ 1.6199762 , -1.32428271, -0.01756443,  1.08798961,  1.03943459,\n",
       "        2.24598975,  1.31097965,  1.39318156,  0.36955275,  0.83853863,\n",
       "        1.51935602,  0.58821015,  1.51297798,  0.24874301, -0.57231598])"
      ]
     },
     "execution_count": 121,
     "metadata": {},
     "output_type": "execute_result"
    }
   ],
   "source": [
    "# Normal distribution\n",
    "np.random.default_rng(seed=1985).normal(loc=1, scale=1, size=15)"
   ]
  },
  {
   "cell_type": "code",
   "execution_count": 122,
   "metadata": {},
   "outputs": [
    {
     "data": {
      "text/plain": [
       "array([ 0.15471214,  0.95483881,  1.17855074, -3.29350703,  0.71917232,\n",
       "        0.25672428, -1.524324  ,  1.10225179,  0.96307003,  2.37295683,\n",
       "        2.92762469,  1.77435465,  0.79613197,  2.12730171,  1.38055266])"
      ]
     },
     "execution_count": 122,
     "metadata": {},
     "output_type": "execute_result"
    }
   ],
   "source": [
    "# Logistic distribution\n",
    "np.random.default_rng(seed=1985).laplace(loc=1, scale=1, size=15)"
   ]
  },
  {
   "cell_type": "markdown",
   "metadata": {},
   "source": [
    "Let's visualize these three distributions but let's try size 10k instead of 12:"
   ]
  },
  {
   "cell_type": "code",
   "execution_count": 124,
   "metadata": {},
   "outputs": [
    {
     "data": {
      "text/plain": [
       "<seaborn.axisgrid.FacetGrid at 0x20e3d530a50>"
      ]
     },
     "execution_count": 124,
     "metadata": {},
     "output_type": "execute_result"
    },
    {
     "data": {
      "image/png": "[encoded data removed]",
      "text/plain": [
       "<Figure size 1605.38x500 with 3 Axes>"
      ]
     },
     "metadata": {},
     "output_type": "display_data"
    }
   ],
   "source": [
    "# Load packages with their corresponding aliases\n",
    "import pandas as pd\n",
    "import seaborn as sns\n",
    "\n",
    "# Initiate a \"seeded\" random number generator\n",
    "rnd_seed = np.random.default_rng(seed=1985)\n",
    "\n",
    "# Create a DataFrame with three different random number distributions\n",
    "df = pd.DataFrame(\n",
    "    {\n",
    "        'Uniform': rnd_seed.uniform(low=-10, high=+10, size=10000),\n",
    "        'Normal': rnd_seed.normal(loc=0, scale=2, size=10000),\n",
    "        'Laplace': rnd_seed.laplace(loc=0, scale=1, size=10000)\n",
    "    }\n",
    ")\n",
    "\n",
    "# Melt the DataFrame we just created to enable nice visualization below\n",
    "df_melt = pd.melt(\n",
    "    frame=df,\n",
    "    id_vars=None,\n",
    "    value_vars=['Uniform', 'Normal', 'Laplace'],\n",
    "    var_name='Distribution',\n",
    "    value_name='Value'\n",
    ")\n",
    "\n",
    "# Visualize our three distributions\n",
    "sns.displot(df_melt, x=\"Value\", col=\"Distribution\", hue=\"Distribution\")"
   ]
  },
  {
   "cell_type": "markdown",
   "metadata": {},
   "source": [
    "### Working with vectors and matrices"
   ]
  },
  {
   "cell_type": "markdown",
   "metadata": {
    "id": "iq_ItBgCe76B"
   },
   "source": [
    "The element-wise array operations we have seen could be very useful but sometimes we need to work in formal algebraic terms, using vectors, matrices, tensors, etc... NumPy has a huge [linear algebra toolbox](https://numpy.org/doc/stable/reference/routines.linalg.html]).\n",
    "\n",
    "For example, let's remember the definition of the [dot product](https://en.wikipedia.org/wiki/Dot_product) (or scalar product) between two vectors $\\textbf{a}$ (dimension $1 \\times n$) and $\\textbf{b}$ (dimension $n \\times 1$):\n",
    "\n",
    "\\begin{equation}\n",
    "\\textbf{a} \\cdot \\textbf{b} = \\sum_{i=1}^{n} a_i b_i = a_1 b_1 + a_2 b_2 + \\dots + a_n b_n\n",
    "\\end{equation} ,\n",
    "\n",
    "where $n$ is the dimension of the vector space. If we would like to compute the dot product of two vectors $\\textbf{a}$ (dimension $1 \\times 3$) and $\\textbf{b}$ (dimension $3 \\times 1$) with NumPy, we should use [`np.dot()`](https://numpy.org/doc/stable/reference/generated/numpy.dot.html):"
   ]
  },
  {
   "cell_type": "code",
   "execution_count": 148,
   "metadata": {
    "colab": {
     "base_uri": "https://localhost:8080/"
    },
    "id": "rlAHTYMye76B",
    "outputId": "5af16bea-0120-4bcb-f936-4dcc7209f5a2"
   },
   "outputs": [
    {
     "name": "stdout",
     "output_type": "stream",
     "text": [
      "a = [3 1 1] \n",
      "\n",
      "b = [4 3 5] \n",
      "\n"
     ]
    },
    {
     "data": {
      "text/plain": [
       "np.int64(20)"
      ]
     },
     "execution_count": 148,
     "metadata": {},
     "output_type": "execute_result"
    }
   ],
   "source": [
    "# Initiate a \"seeded\" random number generator\n",
    "rnd_seed = np.random.default_rng(seed=1985)\n",
    "\n",
    "# Create a random vector a\n",
    "a = rnd_seed.integers(9, size=(3, ))\n",
    "print(\"a =\", a, \"\\n\")\n",
    "\n",
    "# Create a random vector b\n",
    "b = rnd_seed.integers(9, size=(3, ))\n",
    "print(\"b =\", b, \"\\n\")\n",
    "\n",
    "# Compute the dot product of our two random vectors a·b\n",
    "np.dot(a, b)"
   ]
  },
  {
   "cell_type": "markdown",
   "metadata": {},
   "source": [
    "Which is the same outcome obtained we the dot product definition:\n",
    "\n",
    "\\begin{equation}\n",
    "\\textbf{a} \\cdot \\textbf{b} = \\begin{pmatrix} 3 & 1 & 1 \\end{pmatrix} \\cdot \\begin{pmatrix} 4 \\\\ 3 \\\\ 5 \\\\ \\end{pmatrix} = 3 \\cdot 4 + 1 \\cdot 3 + 1 \\cdot 5 = 12 + 3 + 5 = 20\n",
    "\\end{equation}"
   ]
  },
  {
   "cell_type": "markdown",
   "metadata": {},
   "source": [
    "<div class=\"alert alert-block alert-info\">\n",
    "    \n",
    "<b>Tip:</b> Remember that, the dot product between two vectors can only be defined if the number of columns of the first vector matches the number of rows of the second vector: $(1 \\times n) \\cdot (n \\times 1)$.\n",
    "\n",
    "</div>"
   ]
  },
  {
   "cell_type": "markdown",
   "metadata": {},
   "source": [
    "Similarly, let's remember the definition of the product between two matrices $\\textbf{A}$ (dimension $m \\times n$) and $\\textbf{B}$ (dimension $n \\times p$):\n",
    "\n",
    "\\begin{equation}\n",
    "\\textbf{A} \\cdot \\textbf{B} = \\textbf{C}\n",
    "\\end{equation}\n",
    "\n",
    "\\begin{equation}\n",
    " \\begin{pmatrix}\n",
    " a_{11} & a_{12} & \\cdots & a_{1n} \\\\\n",
    " a_{21} & a_{22} & \\cdots & a_{2n} \\\\\n",
    " \\vdots & \\vdots & \\ddots & \\vdots \\\\\n",
    " a_{m1} & a_{m2} & \\cdots & a_{mn} \\\\\n",
    "\\end{pmatrix} \\cdot \\begin{pmatrix}\n",
    " b_{11} & b_{12} & \\cdots & b_{1p} \\\\\n",
    " b_{21} & b_{22} & \\cdots & b_{2p} \\\\\n",
    " \\vdots & \\vdots & \\ddots & \\vdots \\\\\n",
    " b_{n1} & b_{n2} & \\cdots & b_{np} \\\\\n",
    "\\end{pmatrix} = \\begin{pmatrix}\n",
    " c_{11} & c_{12} & \\cdots & c_{1p} \\\\\n",
    " c_{21} & c_{22} & \\cdots & c_{2p} \\\\\n",
    " \\vdots & \\vdots & \\ddots & \\vdots \\\\\n",
    " c_{m1} & c_{m2} & \\cdots & c_{mp} \\\\\n",
    "\\end{pmatrix}\n",
    "\\end{equation}\n",
    "\n",
    "Where the $c_{ij}$ element of the $\\textbf{C}$ matrix is given by the dot product of the $i$<sup>th</sup> row of $\\textbf{A}$ and the $j$<sup>th</sup> column of $\\textbf{B}$:\n",
    "\n",
    "\\begin{equation}\n",
    "c_{ij} = \\sum_{k=1}^n a_{ik} b_{kj} = a_{i1} b_{1j} + a_{i2} b_{2j} + \\cdots + a_{in} b_{nj} \n",
    "\\end{equation}\n",
    "\n",
    "if we would like to compute the dot product of two matrices $\\textbf{A}$ (dimension $3 \\times 2$) and $\\textbf{B}$ (dimension $2 \\times 3$) with NumPy, we should use the same `np.dot()` NumPy fucntion:"
   ]
  },
  {
   "cell_type": "code",
   "execution_count": 154,
   "metadata": {},
   "outputs": [
    {
     "name": "stdout",
     "output_type": "stream",
     "text": [
      "A = \n",
      " [[3 1]\n",
      " [1 4]\n",
      " [3 5]] \n",
      "\n",
      "B = \n",
      " [[8 0 4]\n",
      " [3 0 2]] \n",
      "\n"
     ]
    },
    {
     "data": {
      "text/plain": [
       "array([[27,  0, 14],\n",
       "       [20,  0, 12],\n",
       "       [39,  0, 22]])"
      ]
     },
     "execution_count": 154,
     "metadata": {},
     "output_type": "execute_result"
    }
   ],
   "source": [
    "# Initiate a \"seeded\" random number generator\n",
    "rnd_seed = np.random.default_rng(seed=1985)\n",
    "\n",
    "# Create a random vector a\n",
    "A = rnd_seed.integers(9, size=(3, 2))\n",
    "print(\"A = \\n\", A, \"\\n\")\n",
    "\n",
    "# Create a random vector b\n",
    "B = rnd_seed.integers(9, size=(2, 3))\n",
    "print(\"B = \\n\", B, \"\\n\")\n",
    "\n",
    "# Compute the dot product of our two random matrices A·B\n",
    "np.dot(A, B)"
   ]
  },
  {
   "cell_type": "markdown",
   "metadata": {},
   "source": [
    "Which is the same outcome obtained with the matrix product definition (we will check only the $c_{11}$ element of the $\\textbf{C}$ matrix for simplicity):\n",
    "\n",
    "\\begin{equation}\n",
    "c_{11} = \\sum_{k=1}^2 a_{1k} b_{k1} = a_{11} \\cdot b_{11} + a_{12} \\cdot b_{21} = 3 \\cdot 8 + 1 \\cdot 3 = 24 + 3 = 27\n",
    "\\end{equation}"
   ]
  },
  {
   "cell_type": "markdown",
   "metadata": {},
   "source": [
    "<div class=\"alert alert-block alert-info\">\n",
    "    \n",
    "<b>Tip:</b> Do you realize that the the dot product between two vectors could be alternatively be seen as a particular case of matrix product? In fact, the NumPy code to \"multiply\" two vectors or two matrices is exactly the same: `np.dot(A, B)`. Similarly to what we have seen for vectors, the product between two matrices can only be defined if the number of columns of the first matrix matches the number of rows of the second matrix: $(m \\times n) \\cdot (n \\times p)$. If the dimensions of the multiplying matrices are $(m \\times n)$ and $(n \\times p)$, the product matrix will have dimension $(m \\times p)$.\n",
    "\n",
    "</div>"
   ]
  },
  {
   "cell_type": "markdown",
   "metadata": {},
   "source": [
    "A more abbreviate syntax to get matrix products is with the `@` operator:"
   ]
  },
  {
   "cell_type": "code",
   "execution_count": 161,
   "metadata": {},
   "outputs": [
    {
     "name": "stdout",
     "output_type": "stream",
     "text": [
      "a·b =\n",
      " 20 \n",
      "\n",
      "A·B =\n",
      " [[27  0 14]\n",
      " [20  0 12]\n",
      " [39  0 22]] \n",
      "\n"
     ]
    }
   ],
   "source": [
    "# Compute the dot product of our two random vectors a·b\n",
    "print(\"a·b =\\n\", a @ b, '\\n')\n",
    "\n",
    "# Compute the dot product of our two random matrices A·B\n",
    "print(\"A·B =\\n\", A @ B, '\\n')"
   ]
  },
  {
   "cell_type": "markdown",
   "metadata": {
    "id": "GBJqGo0pe76D"
   },
   "source": [
    "Finally, to transpose a matrix (or a vector) you should use the `.transpose()` method or its shortened form `.T`:"
   ]
  },
  {
   "cell_type": "markdown",
   "metadata": {},
   "source": [
    "To aggregate the rows or the columns in a 2D array, you would specify the desired axis first. If you start with this array:"
   ]
  },
  {
   "cell_type": "code",
   "execution_count": 171,
   "metadata": {},
   "outputs": [
    {
     "name": "stdout",
     "output_type": "stream",
     "text": [
      "[3 1 1] \n",
      "\n",
      "[[3 1 3]\n",
      " [1 4 5]] \n",
      "\n",
      "[[8 0 4]\n",
      " [3 0 2]] \n",
      "\n",
      "[[8 3]\n",
      " [0 0]\n",
      " [4 2]]\n"
     ]
    }
   ],
   "source": [
    "# Print our random matrix A\n",
    "print(a, '\\n')\n",
    "\n",
    "# Transpose and print our random matrix A\n",
    "print(A.transpose(), '\\n')\n",
    "\n",
    "# Print our random matrix A\n",
    "print(B, '\\n')\n",
    "\n",
    "# Transpose and print our random matrix A\n",
    "print(B.T)"
   ]
  },
  {
   "cell_type": "code",
   "execution_count": null,
   "metadata": {},
   "outputs": [],
   "source": [
    "# Create a 2D array from scratch\n",
    "b = np.array([[12, 11, 10, 9], [8, 7, 6, 5], [4, 3, 2, 1]])\n",
    "\n",
    "# Show the 2D array we just created\n",
    "print(b)"
   ]
  },
  {
   "cell_type": "markdown",
   "metadata": {},
   "source": [
    "For example, you can sum over the axis of rows with:"
   ]
  },
  {
   "cell_type": "code",
   "execution_count": null,
   "metadata": {},
   "outputs": [],
   "source": [
    "# Aggregate array rows with the sum \n",
    "print(b.sum(axis=0))"
   ]
  },
  {
   "cell_type": "markdown",
   "metadata": {},
   "source": [
    "Or over the axis of columns with: "
   ]
  },
  {
   "cell_type": "code",
   "execution_count": null,
   "metadata": {},
   "outputs": [],
   "source": [
    "# Aggregate array rows with the sum\n",
    "print(b.sum(axis=1))"
   ]
  }
 ],
 "metadata": {
  "celltoolbar": "Tags",
  "colab": {
   "name": "Workshop 4 - Module 1 - 2022-06-07 - NumPy arrays.ipynb",
   "provenance": [
    {
     "file_id": "https://github.com/anopheles-genomic-surveillance/anopheles-genomic-surveillance.github.io/blob/master/docs/workshop-4/module-1-numpy.ipynb",
     "timestamp": 1754294961256
    }
   ]
  },
  "kernelspec": {
   "display_name": "Python 3 (ipykernel)",
   "language": "python",
   "name": "python3"
  },
  "language_info": {
   "codemirror_mode": {
    "name": "ipython",
    "version": 3
   },
   "file_extension": ".py",
   "mimetype": "text/x-python",
   "name": "python",
   "nbconvert_exporter": "python",
   "pygments_lexer": "ipython3",
   "version": "3.13.5"
  }
 },
 "nbformat": 4,
 "nbformat_minor": 4
}
