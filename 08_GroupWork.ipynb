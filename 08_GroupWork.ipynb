{
 "cells": [
  {
   "cell_type": "markdown",
   "metadata": {},
   "source": [
    "# Session 8 - Group Work (1<sup>st</sup> day - 40')\n",
    "> First day devoted to the **Misophonia analysis** assignment. **<u>Read the instructions below carefully.</u>** "
   ]
  },
  {
   "cell_type": "markdown",
   "metadata": {},
   "source": [
    "## Instructions\n",
    "\n",
    "### 1<sup>st</sup> day (October 6<sup>th</sup>) ✔️\n",
    "\n",
    "The first objective is to generate some descriptive statistics to understand the variables present in the \"Misophonia\" dataset. Load this dataset and explore it in order to identify one or two questions or hypothesis that you would like to answer about misophonia. You can directly use the variables reported in the \"Misophonia\" dataset, or create new ones by transforming of the original variables (linear combinations, binning into categories, standardization, normalization, etc...). Put in practice everything you have learn during the course up to this moment to perform a successful exploratory data analysis.\n",
    "\n",
    "### 2<sup>nd</sup> day (October 9<sup>th</sup>)\n",
    "\n",
    "The second objective is to use the appropriate statistical tests to support or discard the hypothesis you generated in the first day. Provide a concise explanation of the steps and conclusions that you reach so that we can understand the story you want to tell and ensure you know how to interpret the results.\n",
    "\n",
    "### \"Group meeting\" (October 15<sup>th</sup>, with Alejandro)\n",
    "\n",
    "During this \"Group meeting\" session with Alejandro you will have the opportunity to discuss your preliminary ideas and conclusions. These are intended as 5 minutes flash talks to your classmates the last day of the theory class. Valuable feedback on your interest may be suggested to improve your analysis. \n",
    "\n",
    "### 3<sup>rd</sup> day (October 22<sup>nd</sup>)\n",
    "\n",
    "Implement the last modifications in your final **Misophinia analysis**, having in mind the feedback provided by Alejandro during the \"Group meeting\". The idea of this third and last group work day is to complete the job. Once you complete the task, export an `*.HTML` report by doing `File` --> `Save and Export Notebook As` --> `HTML` in you Jupyter Notebook."
   ]
  },
  {
   "cell_type": "markdown",
   "metadata": {},
   "source": [
    "## Extra considerations\n",
    "\n",
    "* Delivering just **<u>one report</u>** per working groups is enough.\n",
    "\n",
    "* Explicitly include the **<u>names of all authors</u>** in the  `*.HTML` report.\n",
    "\n",
    "* Since it is difficult to determine the percentage of your work that has been created by copy/pasting **<u>generative artificial intelligence</u>** output, we explicitly ask you to use these tools **<u>with integrity</u>**. This means to carefully review and to fully understand every output used in the report.\n",
    "\n",
    "* Remember that the main objective of the **Misophinia analysis** is to evaluate if you have acquired the basic skills needed to analyze a generic dataset using Python. Partial and final results can be statistically significant or not. We are interested in meaningful results in the context of your particular analyses. Justification and interpretation are the main aims. "
   ]
  },
  {
   "cell_type": "markdown",
   "metadata": {},
   "source": [
    "## Scoring criteria\n",
    "\n",
    "The **Misophonia analysis** you will perform is completely open. This means that providing a deterministic evaluation is complex, if not impossible. With the aim of better guiding you in the report preparation, we list here some key points that we consider important to assign the grade:\n",
    "\n",
    "* **Briefness (5%)**: Is not necessary to be ultra-exhaustive (10 plots maximum). In fact, we will positively value synthesis and concretion (and negatively value over-extension).\n",
    "\n",
    "* **Structure and clarity (30%)**: A good structure enables a clear exposition. We are not looking for the classical structure (abstract, introduction, methods, results, discussion, conclusions). We just want to see a gradual and logical construction of your analysis. Starting with a brief introduction and an outline, following with a preliminary exploratory data analysis to finally generate and test an hypothesis is an example of what we consider a nice structure (but maybe not the unique one...).\n",
    "\n",
    "* **Plotting (30%)**: Your delivered plots should meet the scientific quality standards. In particular:\n",
    "\n",
    "  + The magnitudes represented should be properly labeled, indicating their units if necessary. Remember that plot legends are also mandatory.\n",
    "\n",
    "  + Depending on the particular characteristics of your data and depending on where you want to put focus, one visualization could be more suitable than other. Choose the visualization strategy that better represents the insights you want to highlight.\n",
    "\n",
    "  + There is no preferred package for generating the plots in the report (you can use any Python package).\n",
    "\n",
    "* **Coding (10%)**: We will check how you leverage Python to achieve your objectives, looking for tools and skills that we covered during the Boot Camp, but also for \"homegrown\" tricks. We prefer simplicity and readability over complexity and performance.\n",
    "\n",
    "* **Formalism (20%)**: Other tasks (not this one) will cover the evaluation of the theory blocks (Statistical Data Analysis, Machine Learning, Bayesian Statistics, etc... ). In any case, we will also check that the statistical methods you use during the report are formally correct.\n",
    "\n",
    "* **Teamwork (5%)**: As you already know, we devised the Boot Camp by establishing working couples from the very first class. Each team comprises a mix of a coding-experienced and a coding-inexperienced student. We ask you to cooperate, sharing knowledge and learning from each other during the process of elaborating the report."
   ]
  },
  {
   "cell_type": "markdown",
   "metadata": {},
   "source": [
    "---"
   ]
  }
 ],
 "metadata": {
  "colab": {
   "collapsed_sections": [],
   "include_colab_link": true,
   "name": "08_Group Work.ipynb",
   "provenance": [],
   "toc_visible": true
  },
  "kernelspec": {
   "display_name": "Python 3 (ipykernel)",
   "language": "python",
   "name": "python3"
  },
  "language_info": {
   "codemirror_mode": {
    "name": "ipython",
    "version": 3
   },
   "file_extension": ".py",
   "mimetype": "text/x-python",
   "name": "python",
   "nbconvert_exporter": "python",
   "pygments_lexer": "ipython3",
   "version": "3.13.5"
  }
 },
 "nbformat": 4,
 "nbformat_minor": 4
}
